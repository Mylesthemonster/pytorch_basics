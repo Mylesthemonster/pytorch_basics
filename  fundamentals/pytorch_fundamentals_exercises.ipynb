{
  "cells": [
    {
      "cell_type": "markdown",
      "metadata": {
        "id": "AzDBM_v4iMe7"
      },
      "source": [
        "# 00. PyTorch Fundamentals Exercises\n",
        "\n",
        "### 1. Documentation reading \n",
        "\n",
        "A big part of deep learning (and learning to code in general) is getting familiar with the documentation of a certain framework you're using. We'll be using the PyTorch documentation a lot throughout the rest of this course. So I'd recommend spending 10-minutes reading the following (it's okay if you don't get some things for now, the focus is not yet full understanding, it's awareness):\n",
        "  * The documentation on [`torch.Tensor`](https://pytorch.org/docs/stable/tensors.html#torch-tensor).\n",
        "  * The documentation on [`torch.cuda`](https://pytorch.org/docs/master/notes/cuda.html#cuda-semantics).\n",
        "\n"
      ]
    },
    {
      "cell_type": "code",
      "execution_count": 20,
      "metadata": {
        "id": "bGD0oD8Kizak"
      },
      "outputs": [],
      "source": [
        "import torch"
      ]
    },
    {
      "cell_type": "markdown",
      "metadata": {
        "id": "__iXqqz-ioUJ"
      },
      "source": [
        "### 2. Create a random tensor with shape `(7, 7)`.\n"
      ]
    },
    {
      "cell_type": "code",
      "execution_count": 4,
      "metadata": {
        "id": "6pUq9Dc8i2L7"
      },
      "outputs": [
        {
          "data": {
            "text/plain": [
              "(tensor([[0.4224, 0.1583, 0.7461, 0.9665, 0.9698, 0.2216, 0.8091],\n",
              "         [0.0015, 0.9258, 0.4432, 0.6839, 0.4935, 0.4241, 0.3517],\n",
              "         [0.0954, 0.1499, 0.3991, 0.3971, 0.3448, 0.5904, 0.6029],\n",
              "         [0.8213, 0.6709, 0.7383, 0.5423, 0.9249, 0.0248, 0.1723],\n",
              "         [0.1207, 0.4554, 0.5823, 0.7136, 0.2576, 0.8015, 0.3314],\n",
              "         [0.2099, 0.0120, 0.6224, 0.5500, 0.7624, 0.6339, 0.8644],\n",
              "         [0.9276, 0.4318, 0.6120, 0.2530, 0.5494, 0.7104, 0.7254]]),\n",
              " torch.Size([7, 7]))"
            ]
          },
          "execution_count": 4,
          "metadata": {},
          "output_type": "execute_result"
        }
      ],
      "source": [
        "tensor = torch.rand([7,7])\n",
        "tensor, tensor.shape"
      ]
    },
    {
      "cell_type": "markdown",
      "metadata": {
        "id": "9-XxvRLfiqkR"
      },
      "source": [
        "### 3. Perform a matrix multiplication on the tensor from 2 with another random tensor with shape `(1, 7)` (hint: you may have to transpose the second tensor)."
      ]
    },
    {
      "cell_type": "code",
      "execution_count": 7,
      "metadata": {
        "id": "NcLqR0Sbi_vT"
      },
      "outputs": [
        {
          "data": {
            "text/plain": [
              "(tensor([[1.2239],\n",
              "         [2.0847],\n",
              "         [1.9002],\n",
              "         [0.9408],\n",
              "         [1.5213],\n",
              "         [1.3606],\n",
              "         [0.8780]]),\n",
              " torch.Size([7, 1]))"
            ]
          },
          "execution_count": 7,
          "metadata": {},
          "output_type": "execute_result"
        }
      ],
      "source": [
        "tensor_2 = torch.rand([1,7])\n",
        "\n",
        "# Perform matrix multiplication \n",
        "tensor_mul = torch.matmul(tensor, tensor_2.T)\n",
        "tensor_mul, tensor_mul.shape"
      ]
    },
    {
      "cell_type": "markdown",
      "metadata": {
        "id": "eiutdKUFiryU"
      },
      "source": [
        "### 4. Set the random seed to `0` and do 2 & 3 over again.\n",
        "\n",
        "The output should be:\n",
        "```\n",
        "(tensor([[1.8542],\n",
        "         [1.9611],\n",
        "         [2.2884],\n",
        "         [3.0481],\n",
        "         [1.7067],\n",
        "         [2.5290],\n",
        "         [1.7989]]), torch.Size([7, 1]))\n",
        "```"
      ]
    },
    {
      "cell_type": "code",
      "execution_count": 22,
      "metadata": {
        "id": "D-lOWI_1jRMm"
      },
      "outputs": [
        {
          "data": {
            "text/plain": [
              "(tensor([[1.8542],\n",
              "         [1.9611],\n",
              "         [2.2884],\n",
              "         [3.0481],\n",
              "         [1.7067],\n",
              "         [2.5290],\n",
              "         [1.7989]]),\n",
              " torch.Size([7, 1]))"
            ]
          },
          "execution_count": 22,
          "metadata": {},
          "output_type": "execute_result"
        }
      ],
      "source": [
        "# Set manual seed\n",
        "RANDOM_SEED = 0\n",
        "torch.manual_seed(seed=RANDOM_SEED) \n",
        "# Create two random tensors\n",
        "import torch\n",
        "tensor = torch.rand([7,7])\n",
        "tensor_2 = torch.rand([1,7])\n",
        "# Matrix multiply tensors\n",
        "tensor_mul = torch.matmul(tensor, tensor_2.T)\n",
        "tensor_mul, tensor_mul.shape"
      ]
    },
    {
      "cell_type": "markdown",
      "metadata": {
        "id": "ezY6ks9Cis37"
      },
      "source": [
        "### 5. Speaking of random seeds, we saw how to set it with `torch.manual_seed()` but is there a GPU equivalent? (hint: you'll need to look into the documentation for `torch.cuda` for this one)\n",
        "  * If there is, set the GPU random seed to `1234`."
      ]
    },
    {
      "cell_type": "code",
      "execution_count": 9,
      "metadata": {
        "id": "_LKWcfSTjp00"
      },
      "outputs": [
        {
          "data": {
            "text/plain": [
              "<torch._C.Generator at 0x10898e850>"
            ]
          },
          "execution_count": 9,
          "metadata": {},
          "output_type": "execute_result"
        }
      ],
      "source": [
        "# Set random seed on the GPU (torch.manual_seed() does both CPU and GPU)\n",
        "RANDOM_SEED = 1234\n",
        "torch.manual_seed(seed=RANDOM_SEED) "
      ]
    },
    {
      "cell_type": "markdown",
      "metadata": {
        "id": "Ir9qSaj6it4n"
      },
      "source": [
        "\n",
        "### 6. Create two random tensors of shape `(2, 3)` and send them both to the GPU (you'll need access to a GPU for this). Set `torch.manual_seed(1234)` when creating the tensors (this doesn't have to be the GPU random seed). The output should be something like:\n",
        "\n",
        "```\n",
        "Device: cuda\n",
        "(tensor([[0.0290, 0.4019, 0.2598],\n",
        "         [0.3666, 0.0583, 0.7006]], device='cuda:0'),\n",
        " tensor([[0.0518, 0.4681, 0.6738],\n",
        "         [0.3315, 0.7837, 0.5631]], device='cuda:0'))\n",
        "```"
      ]
    },
    {
      "cell_type": "code",
      "execution_count": 12,
      "metadata": {
        "id": "azXExiFZj5nm"
      },
      "outputs": [
        {
          "name": "stdout",
          "output_type": "stream",
          "text": [
            "True\n",
            "True\n",
            "==>> device:  mps\n"
          ]
        },
        {
          "data": {
            "text/plain": [
              "(tensor([[0.8956, 0.4592, 0.8060],\n",
              "         [0.2350, 0.0150, 0.6553]], device='mps:0'),\n",
              " tensor([[0.9054, 0.8895, 0.7996],\n",
              "         [0.7942, 0.9187, 0.1736]], device='mps:0'))"
            ]
          },
          "execution_count": 12,
          "metadata": {},
          "output_type": "execute_result"
        }
      ],
      "source": [
        "# Check for access to GPU\n",
        "if not torch.backends.mps.is_available():\n",
        "    if not torch.backends.mps.is_built():\n",
        "        device = torch.device('cpu')\n",
        "else:\n",
        "    # this ensures that the current MacOS version is at least 12.3+\n",
        "    print(torch.backends.mps.is_available())\n",
        "    # this ensures that the current current PyTorch installation was built with MPS activated.\n",
        "    print(torch.backends.mps.is_built())\n",
        "    device = torch.device('mps') \n",
        "    print(\"==>> device: \", device)\n",
        "# Create two random tensors on GPU\n",
        "tensor_A = torch.rand([2,3], device=device)\n",
        "tensor_B = torch.rand([2,3], device=device)\n",
        "tensor_A, tensor_B"
      ]
    },
    {
      "cell_type": "markdown",
      "metadata": {
        "id": "5TlAxeiSiu1y"
      },
      "source": [
        "\n",
        "### 7. Perform a matrix multiplication on the tensors you created in 6 (again, you may have to adjust the shapes of one of the tensors).\n",
        "\n",
        "The output should look like:\n",
        "```\n",
        "(tensor([[0.3647, 0.4709],\n",
        "         [0.5184, 0.5617]], device='cuda:0'), torch.Size([2, 2]))\n",
        "```"
      ]
    },
    {
      "cell_type": "code",
      "execution_count": 19,
      "metadata": {
        "id": "fAeG7ox0lHEO"
      },
      "outputs": [
        {
          "data": {
            "text/plain": [
              "(tensor([[0.5653, 0.0834],\n",
              "         [0.8043, 0.8426]], device='mps:0'),\n",
              " torch.Size([2, 2]))"
            ]
          },
          "execution_count": 19,
          "metadata": {},
          "output_type": "execute_result"
        }
      ],
      "source": [
        "# Perform matmul on tensor_A and tensor_B\n",
        "tensor_C = torch.mm(tensor_A, tensor_B.T)\n",
        "tensor_C, tensor_C.shape"
      ]
    },
    {
      "cell_type": "markdown",
      "metadata": {
        "id": "G7qfa5CSivwg"
      },
      "source": [
        "### 8. Find the maximum and minimum values of the output of 7."
      ]
    },
    {
      "cell_type": "code",
      "execution_count": 18,
      "metadata": {
        "id": "Fu8_3mZpllOd"
      },
      "outputs": [
        {
          "data": {
            "text/plain": [
              "(tensor(0.8426, device='mps:0'), tensor(0.0834, device='mps:0'))"
            ]
          },
          "execution_count": 18,
          "metadata": {},
          "output_type": "execute_result"
        }
      ],
      "source": [
        "\n",
        "# Perform matmul on tensor_A and tensor_B\n",
        "tensor_C = torch.mm(tensor_A, tensor_B.T)\n",
        "\n",
        "# Find max\n",
        "tensor_C_max = torch.max(tensor_C)\n",
        "\n",
        "# Find min\n",
        "tensor_C_min = torch.min(tensor_C)\n",
        "\n",
        "tensor_C_max, tensor_C_min"
      ]
    },
    {
      "cell_type": "markdown",
      "metadata": {
        "id": "wrTj5FgNiw47"
      },
      "source": [
        "### 9. Find the maximum and minimum index values of the output of 7."
      ]
    },
    {
      "cell_type": "code",
      "execution_count": 17,
      "metadata": {
        "id": "CCEKt4K2lsfQ"
      },
      "outputs": [
        {
          "data": {
            "text/plain": [
              "(tensor(3, device='mps:0'), tensor(1, device='mps:0'))"
            ]
          },
          "execution_count": 17,
          "metadata": {},
          "output_type": "execute_result"
        }
      ],
      "source": [
        "# Find arg max\n",
        "tensor_C_argmax = torch.argmax(tensor_C)\n",
        "\n",
        "# Find arg min\n",
        "tensor_C_argmin = torch.argmin(tensor_C)\n",
        "tensor_C_argmax, tensor_C_argmin"
      ]
    },
    {
      "cell_type": "markdown",
      "metadata": {
        "id": "hmeybz4uixy7"
      },
      "source": [
        "\n",
        "### 10. Make a random tensor with shape `(1, 1, 1, 10)` and then create a new tensor with all the `1` dimensions removed to be left with a tensor of shape `(10)`. Set the seed to `7` when you create it and print out the first tensor and it's shape as well as the second tensor and it's shape.\n",
        "\n",
        "The output should look like:\n",
        "\n",
        "```\n",
        "tensor([[[[0.5349, 0.1988, 0.6592, 0.6569, 0.2328, 0.4251, 0.2071, 0.6297,\n",
        "           0.3653, 0.8513]]]]) torch.Size([1, 1, 1, 10])\n",
        "tensor([0.5349, 0.1988, 0.6592, 0.6569, 0.2328, 0.4251, 0.2071, 0.6297, 0.3653,\n",
        "        0.8513]) torch.Size([10])\n",
        "```"
      ]
    },
    {
      "cell_type": "code",
      "execution_count": 23,
      "metadata": {
        "id": "TQ9zbRzVl1jV"
      },
      "outputs": [
        {
          "data": {
            "text/plain": [
              "(tensor([[[[0.0290, 0.4019, 0.2598, 0.3666, 0.0583, 0.7006, 0.0518, 0.4681,\n",
              "            0.6738, 0.3315]]]]),\n",
              " torch.Size([1, 1, 1, 10]),\n",
              " tensor([0.7837, 0.5631, 0.7749, 0.8208, 0.2793, 0.6817, 0.2837, 0.6567, 0.2388,\n",
              "         0.7313]),\n",
              " torch.Size([10]))"
            ]
          },
          "execution_count": 23,
          "metadata": {},
          "output_type": "execute_result"
        }
      ],
      "source": [
        "# Set seed\n",
        "RANDOM_SEED = 1234\n",
        "torch.manual_seed(seed=RANDOM_SEED)\n",
        "# Create random tensor\n",
        "tensor_X = torch.rand([1,1,1,10])\n",
        "tensor_Y = torch.rand([1,1,1,10])\n",
        "# Remove single dimensions\n",
        "tensor_Y = torch.squeeze(tensor_Y)\n",
        "# Print out tensors and their shapes\n",
        "tensor_X, tensor_X.shape, tensor_Y, tensor_Y.shape"
      ]
    }
  ],
  "metadata": {
    "accelerator": "GPU",
    "colab": {
      "collapsed_sections": [],
      "name": "00_pytorch_fundamentals_exercises.ipynb",
      "provenance": []
    },
    "kernelspec": {
      "display_name": "Python 3",
      "language": "python",
      "name": "python3"
    },
    "language_info": {
      "codemirror_mode": {
        "name": "ipython",
        "version": 3
      },
      "file_extension": ".py",
      "mimetype": "text/x-python",
      "name": "python",
      "nbconvert_exporter": "python",
      "pygments_lexer": "ipython3",
      "version": "3.10.9 (main, Dec 15 2022, 17:11:09) [Clang 14.0.0 (clang-1400.0.29.202)]"
    },
    "vscode": {
      "interpreter": {
        "hash": "b0fa6594d8f4cbf19f97940f81e996739fb7646882a419484c72d19e05852a7e"
      }
    }
  },
  "nbformat": 4,
  "nbformat_minor": 0
}
